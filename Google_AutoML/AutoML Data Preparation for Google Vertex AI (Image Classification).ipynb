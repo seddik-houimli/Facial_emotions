{
 "cells": [
  {
   "cell_type": "markdown",
   "id": "95741838",
   "metadata": {},
   "source": [
    "# AutoML for Images\n",
    "\n",
    "### Data Preparation for Google Vertex AI (Image Classification Task)"
   ]
  },
  {
   "cell_type": "markdown",
   "id": "2c15758c",
   "metadata": {},
   "source": [
    "1 - First, we need to upload our images to the Google Cloud Storage. There you should create a bucket and import the faceObjects folder to it.\n",
    "Learn more about Google Cloud Storage here: https://cloud.google.com/storage"
   ]
  },
  {
   "cell_type": "markdown",
   "id": "505e30d9",
   "metadata": {},
   "source": [
    "2 - Second, In Google Vertex AI, you should create a notebook by selecting the sidebar button \"Workbench\".\n",
    "Once done, run this code in order to generate a csv file where we would have the paths to our different images as well as their corresponding labels. This csv file would serve later on as our dataset while building our AutoML Image Classification task through the Google Vertex AI plateform."
   ]
  },
  {
   "cell_type": "code",
   "execution_count": null,
   "id": "f9ddc8c4",
   "metadata": {},
   "outputs": [],
   "source": [
    "from google.cloud import storage\n",
    "import pandas as pd\n",
    "\n",
    "\n",
    "BUCKET='cloud-ai-platform-YourBucketName'\n",
    "DELIMITER='/'\n",
    "PREFIX_0='0/'\n",
    "PREFIX_1='1/'\n",
    "PREFIX_2='2/'\n",
    "PREFIX_3='3/'\n",
    "PREFIX_4='4/'\n",
    "PREFIX_5='5/'\n",
    "PREFIX_6='6/'\n",
    "PREFIX_7='7/'\n",
    "\n",
    "FOLDERS = [PREFIX_0,PREFIX_1,PREFIX_2,PREFIX_3,PREFIX_4,PREFIX_5,PREFIX_6,PREFIX_7]\n",
    "\n",
    "# BASE_PATH = f'gs://{BUCKET}/{PREFIX}'\n",
    "\n",
    "print(f'BUCKET : {BUCKET}')\n",
    "print('Connecting to GCP Storage')\n",
    "client = storage.Client()\n",
    "bucket = client.get_bucket(BUCKET)\n",
    "\n",
    "\n",
    "print('Fetching list of objects to generate the import file')\n",
    "\n",
    "data = []\n",
    "\n",
    "for folder in FOLDERS :\n",
    "\n",
    "    blobs = client.list_blobs(BUCKET, prefix=folder, delimiter=DELIMITER)\n",
    "\n",
    "    for blob in blobs:\n",
    "        # range to remove the last character which is a delimiter\n",
    "        label = folder[:-1] \n",
    "        data.append({\n",
    "            'FILE_PATH': f'gs://{BUCKET}/{blob.name}',\n",
    "            'LABEL': label\n",
    "        })\n",
    "\n",
    "\n",
    "df = pd.DataFrame(data)\n",
    "\n",
    "print('Exporting import file data to CSV-file')\n",
    "df.to_csv('import_file_faces.csv', index=False, header=False)"
   ]
  }
 ],
 "metadata": {
  "kernelspec": {
   "display_name": "Python 3 (ipykernel)",
   "language": "python",
   "name": "python3"
  },
  "language_info": {
   "codemirror_mode": {
    "name": "ipython",
    "version": 3
   },
   "file_extension": ".py",
   "mimetype": "text/x-python",
   "name": "python",
   "nbconvert_exporter": "python",
   "pygments_lexer": "ipython3",
   "version": "3.10.4"
  }
 },
 "nbformat": 4,
 "nbformat_minor": 5
}
