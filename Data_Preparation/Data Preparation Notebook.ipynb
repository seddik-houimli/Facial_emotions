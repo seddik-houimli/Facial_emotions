{
 "cells": [
  {
   "cell_type": "markdown",
   "id": "ebada49e",
   "metadata": {},
   "source": [
    "# Data Preparation Notebook"
   ]
  },
  {
   "cell_type": "markdown",
   "id": "44d7383c",
   "metadata": {},
   "source": [
    "# A - Image Transformation to Black and White"
   ]
  },
  {
   "cell_type": "markdown",
   "id": "34c4ad5e",
   "metadata": {},
   "source": [
    "First, to improve our dataset accuracy, we chose to transform all our images to black and white png files.To do so, we made use of the pillow library.\n",
    "To learn more about the library visit this website: https://pillow.readthedocs.io/en/stable/reference/Image.html"
   ]
  },
  {
   "cell_type": "markdown",
   "id": "8d607bb1",
   "metadata": {},
   "source": [
    "1 - We should place ourselves inside the directory where all our image files are placed."
   ]
  },
  {
   "cell_type": "code",
   "execution_count": null,
   "id": "8d19b28b",
   "metadata": {},
   "outputs": [],
   "source": [
    "import os\n",
    "import path\n",
    "\n",
    "base = os.getcwd()\n",
    "os.chdir('PathToYourImages/faceObjects/images')\n",
    "current = base + add\n",
    "print(os.getcwd())"
   ]
  },
  {
   "cell_type": "code",
   "execution_count": null,
   "id": "209d0d98",
   "metadata": {},
   "outputs": [],
   "source": [
    "for root, _, files in os.walk('.'):\n",
    "    print(\"Dir:\", root, \"with\", len(files), \"images files.\")"
   ]
  },
  {
   "cell_type": "markdown",
   "id": "b1b3fd6e",
   "metadata": {},
   "source": [
    "2 - Now, we run this code in order to transform our images to black and white, change their type to png files and delete the jpg files."
   ]
  },
  {
   "cell_type": "code",
   "execution_count": null,
   "id": "80f9fdd4",
   "metadata": {},
   "outputs": [],
   "source": [
    "from PIL import Image\n",
    "import glob\n",
    "import os\n",
    "\n",
    "for file in glob.glob(\"*.jpg\"):\n",
    "    image = Image.open(file)\n",
    "    image = image.convert(\"L\")\n",
    "    image.save(file.replace(\"jpg\", \"png\"))\n",
    "    os.remove(file)\n",
    "cd .."
   ]
  },
  {
   "cell_type": "markdown",
   "id": "952f6786",
   "metadata": {},
   "source": [
    "# B - Image Separation into Different Directories (Image Label = Directory Name)"
   ]
  },
  {
   "cell_type": "markdown",
   "id": "9cbaea93",
   "metadata": {},
   "source": [
    "To do so, we will make use of our annotation files. We will go through these files, first we will get the label of the image. Then, we will place the image in the adequate directory. Yet, before executing our code, we need to create the folders in under the faceObjects directory: "
   ]
  },
  {
   "cell_type": "markdown",
   "id": "43627b1f",
   "metadata": {},
   "source": [
    "1 - Create these folders under faceObjects directory: Folder names = 0, 1, 2, 3, 4, 5, 6, 7"
   ]
  },
  {
   "cell_type": "markdown",
   "id": "1decae12",
   "metadata": {},
   "source": [
    "2 - Now, you just need to run this code in order to separate our images."
   ]
  },
  {
   "cell_type": "code",
   "execution_count": null,
   "id": "da38bf79",
   "metadata": {},
   "outputs": [],
   "source": [
    "import os\n",
    "import re \n",
    "\n",
    "source = os.getcwd()+\"/faceObjects/images\"\n",
    "destination = \"\"\n",
    "path = os.getcwd()+\"/faceObjects/annotations/\"\n",
    "\n",
    "\n",
    "for i, filename in enumerate(os.listdir(path)):\n",
    "            if filename.endswith(\"exp.npy\"):\n",
    "                image_number = re.findall(r'\\d+', filename)[0]\n",
    "                exp_file = np.load(path+\"/\"+filename)\n",
    "                exp = exp_file.item()\n",
    "                filen =  image_number + \".jpg\"\n",
    "                foldern =os.getcwd()+\"/faceObjects/\" + exp\n",
    "                src_path = os.path.join(source, filen)\n",
    "                dst_path = os.path.join(foldern, filen)\n",
    "                os.rename(src_path, dst_path)"
   ]
  }
 ],
 "metadata": {
  "kernelspec": {
   "display_name": "Python 3 (ipykernel)",
   "language": "python",
   "name": "python3"
  },
  "language_info": {
   "codemirror_mode": {
    "name": "ipython",
    "version": 3
   },
   "file_extension": ".py",
   "mimetype": "text/x-python",
   "name": "python",
   "nbconvert_exporter": "python",
   "pygments_lexer": "ipython3",
   "version": "3.10.4"
  }
 },
 "nbformat": 4,
 "nbformat_minor": 5
}
