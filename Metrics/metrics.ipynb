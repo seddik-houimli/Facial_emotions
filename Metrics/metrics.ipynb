{
  "nbformat": 4,
  "nbformat_minor": 0,
  "metadata": {
    "colab": {
      "provenance": []
    },
    "kernelspec": {
      "name": "python3",
      "display_name": "Python 3"
    },
    "language_info": {
      "name": "python"
    }
  },
  "cells": [
    {
      "cell_type": "markdown",
      "source": [
        "To begin, let's first initialize an 8x8 matrix with all elements set to 0. You can do this using the zeros() function from the numpy library."
      ],
      "metadata": {
        "id": "_-n_GGbld-Op"
      }
    },
    {
      "cell_type": "code",
      "execution_count": null,
      "metadata": {
        "id": "GLzo2-ehd86V"
      },
      "outputs": [],
      "source": [
        "import numpy as np\n",
        "\n",
        "confusion_matrix = np.zeros((8, 8))"
      ]
    },
    {
      "cell_type": "markdown",
      "source": [
        "# **1) Metrics for the best Model on Microsoft Azure Machine Learning Studio ✅**"
      ],
      "metadata": {
        "id": "41WlZgOZg1mm"
      }
    },
    {
      "cell_type": "markdown",
      "source": [
        "Iterate through each row and column of the matrix and set the value of the element at that position to the desired value. Confusion Matrix for Microsoft Azure Machine Learning Studio model"
      ],
      "metadata": {
        "id": "xpr3jNlreO9a"
      }
    },
    {
      "cell_type": "code",
      "source": [
        "#Row 0: 44 4 5 13 4 2 18 10\n",
        "confusion_matrix[0][0] = 44\n",
        "confusion_matrix[0][1] = 4\n",
        "confusion_matrix[0][2] = 5\n",
        "confusion_matrix[0][3] = 13\n",
        "confusion_matrix[0][4] = 4\n",
        "confusion_matrix[0][5] = 2\n",
        "confusion_matrix[0][6] = 18\n",
        "confusion_matrix[0][7] = 10\n",
        "#Row 1: 2 67 1 4 0 6 0 20\n",
        "confusion_matrix[1][0] = 2\n",
        "confusion_matrix[1][1] = 67\n",
        "confusion_matrix[1][2] = 1\n",
        "confusion_matrix[1][3] = 4\n",
        "confusion_matrix[1][4] = 0\n",
        "confusion_matrix[1][5] = 6\n",
        "confusion_matrix[1][6] = 0\n",
        "confusion_matrix[1][7] = 20\n",
        "#Row 2: 17 2 45 4 8 8 10 6\n",
        "confusion_matrix[2][0] = 17\n",
        "confusion_matrix[2][1] = 2\n",
        "confusion_matrix[2][2] = 45\n",
        "confusion_matrix[2][3] = 4\n",
        "confusion_matrix[2][4] = 8\n",
        "confusion_matrix[2][5] = 8\n",
        "confusion_matrix[2][6] = 10\n",
        "confusion_matrix[2][7] = 6\n",
        "#Row 3: 15 6 2 49 15 5 4 4\n",
        "confusion_matrix[3][0] = 15\n",
        "confusion_matrix[3][1] = 6\n",
        "confusion_matrix[3][2] = 2\n",
        "confusion_matrix[3][3] = 49\n",
        "confusion_matrix[3][4] = 15\n",
        "confusion_matrix[3][5] = 5\n",
        "confusion_matrix[3][6] = 4\n",
        "confusion_matrix[3][7] = 4\n",
        "#Row 4: 8 1 7 17 55 6 6 0\n",
        "confusion_matrix[4][0] = 8\n",
        "confusion_matrix[4][1] = 1\n",
        "confusion_matrix[4][2] = 7\n",
        "confusion_matrix[4][3] = 17\n",
        "confusion_matrix[4][4] = 55\n",
        "confusion_matrix[4][5] = 6\n",
        "confusion_matrix[4][6] = 6\n",
        "confusion_matrix[4][7] = 0\n",
        "#Row 5: 6 4 8 2 5 46 18 11\n",
        "confusion_matrix[5][0] = 6\n",
        "confusion_matrix[5][1] = 4\n",
        "confusion_matrix[5][2] = 8\n",
        "confusion_matrix[5][3] = 2\n",
        "confusion_matrix[5][4] = 5\n",
        "confusion_matrix[5][5] = 46\n",
        "confusion_matrix[5][6] = 18\n",
        "confusion_matrix[5][7] = 11\n",
        "#Row 6: 12 1 7 6 9 22 41 2\n",
        "confusion_matrix[6][0] = 12\n",
        "confusion_matrix[6][1] = 1\n",
        "confusion_matrix[6][2] = 7\n",
        "confusion_matrix[6][3] = 6\n",
        "confusion_matrix[6][4] = 9\n",
        "confusion_matrix[6][5] = 22\n",
        "confusion_matrix[6][6] = 41\n",
        "confusion_matrix[6][7] = 2\n",
        "#Row 7: 13 11 4 2 3 7 6 54\n",
        "confusion_matrix[7][0] = 13\n",
        "confusion_matrix[7][1] = 11\n",
        "confusion_matrix[7][2] = 4\n",
        "confusion_matrix[7][3] = 2\n",
        "confusion_matrix[7][4] = 3\n",
        "confusion_matrix[7][5] = 7\n",
        "confusion_matrix[7][6] = 6\n",
        "confusion_matrix[7][7] = 54"
      ],
      "metadata": {
        "id": "9vkJXIkYeMid"
      },
      "execution_count": null,
      "outputs": []
    },
    {
      "cell_type": "markdown",
      "source": [
        " print the matrix to check if it has been filled in correctly."
      ],
      "metadata": {
        "id": "7pp5OxX5eXRD"
      }
    },
    {
      "cell_type": "code",
      "source": [
        "print(confusion_matrix)"
      ],
      "metadata": {
        "colab": {
          "base_uri": "https://localhost:8080/"
        },
        "id": "-O0_LjMkeT5o",
        "outputId": "3a9615d9-115d-498b-dec5-8b93d2483cc1"
      },
      "execution_count": null,
      "outputs": [
        {
          "output_type": "stream",
          "name": "stdout",
          "text": [
            "[[44.  4.  5. 13.  4.  2. 18. 10.]\n",
            " [ 2. 67.  1.  4.  0.  6.  0. 20.]\n",
            " [17.  2. 45.  4.  8.  8. 10.  6.]\n",
            " [15.  6.  2. 49. 15.  5.  4.  4.]\n",
            " [ 8.  1.  7. 17. 55.  6.  6.  0.]\n",
            " [ 6.  4.  8.  2.  5. 46. 18. 11.]\n",
            " [12.  1.  7.  6.  9. 22. 41.  2.]\n",
            " [13. 11.  4.  2.  3.  7.  6. 54.]]\n"
          ]
        }
      ]
    },
    {
      "cell_type": "markdown",
      "source": [
        "This code will create a confusion matrix and calculate the sensitivity, specificity, false positive rate, false negative rate, positive predictive value, negative predictive value, accuracy, F1 score, and AUC for each of the 8 classes."
      ],
      "metadata": {
        "id": "ydSZsD7uee0Z"
      }
    },
    {
      "cell_type": "code",
      "source": [
        "import pandas as pd\n",
        "from sklearn.metrics import roc_auc_score\n",
        "\n",
        "# Replace `n_classes` with the number of classes in your data\n",
        "n_classes = 8\n",
        "\n",
        "# Calculate sensitivity (recall) for each class\n",
        "sensitivity = confusion_matrix.diagonal() / confusion_matrix.sum(axis=1)\n",
        "\n",
        "# Calculate specificity for each class\n",
        "specificity = (np.sum(confusion_matrix, axis=1) - confusion_matrix.diagonal()) / np.sum(confusion_matrix, axis=1)\n",
        "\n",
        "# Calculate false positive rate for each class\n",
        "fpr = 1 - specificity\n",
        "\n",
        "# Calculate false negative rate for each class\n",
        "fnr = 1 - sensitivity\n",
        "\n",
        "# Calculate positive predictive value for each class\n",
        "ppv = confusion_matrix.diagonal() / np.sum(confusion_matrix, axis=0)\n",
        "\n",
        "# Calculate negative predictive value for each class\n",
        "npv = (np.sum(confusion_matrix, axis=0) - confusion_matrix.diagonal()) / np.sum(confusion_matrix, axis=0)\n",
        "\n",
        "# Calculate accuracy\n",
        "accuracy = np.sum(confusion_matrix.diagonal()) / np.sum(confusion_matrix)\n",
        "\n",
        "# Calculate F1 score for each class\n",
        "f1 = 2 * (ppv * sensitivity) / (ppv + sensitivity)\n",
        "\n",
        "# Calculate AUC\n",
        "# true labels and predicted probabilities\n",
        "y_true = []\n",
        "y_pred = []\n",
        "auc = 0\n",
        "for i in range(len(fpr) - 1):\n",
        "    auc += (fpr[i + 1] - fpr[i]) * (sensitivity[i + 1] + sensitivity[i])\n",
        "auc /= 2\n",
        "\n",
        "# Create a dataframe to store the results\n",
        "metrics = pd.DataFrame({\"Sensitivity\": sensitivity, \"Specificity\": specificity, \"FPR\": fpr, \"FNR\": fnr, \"PPV\": ppv, \"NPV\": npv, \"F1\": f1})\n",
        "print(metrics)\n",
        "print(f\"Accuracy: {accuracy:.2f}\")\n",
        "print(f\"AUC: {auc:.2f}\")"
      ],
      "metadata": {
        "colab": {
          "base_uri": "https://localhost:8080/"
        },
        "id": "EiqpYDU9ejd3",
        "outputId": "8f273eff-de8b-42cd-d76a-e3be8bbb82da"
      },
      "execution_count": null,
      "outputs": [
        {
          "output_type": "stream",
          "name": "stdout",
          "text": [
            "   Sensitivity  Specificity   FPR   FNR       PPV       NPV        F1\n",
            "0         0.44         0.56  0.44  0.56  0.376068  0.623932  0.405530\n",
            "1         0.67         0.33  0.67  0.33  0.697917  0.302083  0.683673\n",
            "2         0.45         0.55  0.45  0.55  0.569620  0.430380  0.502793\n",
            "3         0.49         0.51  0.49  0.51  0.505155  0.494845  0.497462\n",
            "4         0.55         0.45  0.55  0.45  0.555556  0.444444  0.552764\n",
            "5         0.46         0.54  0.46  0.54  0.450980  0.549020  0.455446\n",
            "6         0.41         0.59  0.41  0.59  0.398058  0.601942  0.403941\n",
            "7         0.54         0.46  0.54  0.46  0.504673  0.495327  0.521739\n",
            "Accuracy: 0.50\n",
            "AUC: 0.05\n"
          ]
        }
      ]
    },
    {
      "cell_type": "markdown",
      "source": [
        "# **2) Metrics for the best Model on Google Vertex AI ✅**"
      ],
      "metadata": {
        "id": "jzwOHtNLhXnC"
      }
    },
    {
      "cell_type": "markdown",
      "source": [
        "Iterate through each row and column of the matrix and set the value of the element at that position to the desired value. Confusion Matrix for Google Vertex AI model"
      ],
      "metadata": {
        "id": "TopEVCGrhqp6"
      }
    },
    {
      "cell_type": "code",
      "source": [
        "#Row 0: \n",
        "confusion_matrix[0][0] = 9\n",
        "confusion_matrix[0][1] = 1\n",
        "confusion_matrix[0][2] = 6\n",
        "confusion_matrix[0][3] = 0\n",
        "confusion_matrix[0][4] = 0\n",
        "confusion_matrix[0][5] = 3\n",
        "confusion_matrix[0][6] = 2\n",
        "confusion_matrix[0][7] = 4\n",
        "\n",
        "#Row 1:\n",
        "confusion_matrix[1][0] = 0\n",
        "confusion_matrix[1][1] = 16\n",
        "confusion_matrix[1][2] = 0\n",
        "confusion_matrix[1][3] = 1\n",
        "confusion_matrix[1][4] = 0\n",
        "confusion_matrix[1][5] = 0\n",
        "confusion_matrix[1][6] = 1\n",
        "confusion_matrix[1][7] = 7\n",
        "#Row 2:\n",
        "confusion_matrix[2][0] = 2\n",
        "confusion_matrix[2][1] = 1\n",
        "confusion_matrix[2][2] = 15\n",
        "confusion_matrix[2][3] = 0\n",
        "confusion_matrix[2][4] = 3\n",
        "confusion_matrix[2][5] = 1\n",
        "confusion_matrix[2][6] = 1\n",
        "confusion_matrix[2][7] = 2\n",
        "#Row 3:\n",
        "confusion_matrix[3][0] = 2\n",
        "confusion_matrix[3][1] = 0\n",
        "confusion_matrix[3][2] = 1\n",
        "confusion_matrix[3][3] = 9\n",
        "confusion_matrix[3][4] = 5\n",
        "confusion_matrix[3][5] = 1\n",
        "confusion_matrix[3][6] = 2\n",
        "confusion_matrix[3][7] = 5\n",
        "#Row 4:\n",
        "confusion_matrix[4][0] = 0\n",
        "confusion_matrix[4][1] = 0\n",
        "confusion_matrix[4][2] = 2\n",
        "confusion_matrix[4][3] = 3\n",
        "confusion_matrix[4][4] = 16\n",
        "confusion_matrix[4][5] = 1\n",
        "confusion_matrix[4][6] = 3\n",
        "confusion_matrix[4][7] = 0\n",
        "#Row 5:\n",
        "confusion_matrix[5][0] = 1\n",
        "confusion_matrix[5][1] = 1\n",
        "confusion_matrix[5][2] = 4\n",
        "confusion_matrix[5][3] = 0\n",
        "confusion_matrix[5][4] = 1\n",
        "confusion_matrix[5][5] = 12\n",
        "confusion_matrix[5][6] = 4\n",
        "confusion_matrix[5][7] = 2\n",
        "#Row 6:\n",
        "confusion_matrix[6][0] = 0\n",
        "confusion_matrix[6][1] = 0\n",
        "confusion_matrix[6][2] = 0\n",
        "confusion_matrix[6][3] = 1\n",
        "confusion_matrix[6][4] = 1\n",
        "confusion_matrix[6][5] = 6\n",
        "confusion_matrix[6][6] = 16\n",
        "confusion_matrix[6][7] = 1\n",
        "#Row 7:\n",
        "confusion_matrix[7][0] = 1\n",
        "confusion_matrix[7][1] = 1\n",
        "confusion_matrix[7][2] = 2\n",
        "confusion_matrix[7][3] = 2\n",
        "confusion_matrix[7][4] = 1\n",
        "confusion_matrix[7][5] = 0\n",
        "confusion_matrix[7][6] = 1\n",
        "confusion_matrix[7][7] = 17"
      ],
      "metadata": {
        "id": "DPuwKWIWhqp7"
      },
      "execution_count": null,
      "outputs": []
    },
    {
      "cell_type": "markdown",
      "source": [
        " print the matrix to check if it has been filled in correctly."
      ],
      "metadata": {
        "id": "UozVEslohqp-"
      }
    },
    {
      "cell_type": "code",
      "source": [
        "print(confusion_matrix)"
      ],
      "metadata": {
        "colab": {
          "base_uri": "https://localhost:8080/"
        },
        "outputId": "cbc3b4a1-a514-4408-bda2-cc81113ca1b7",
        "id": "IFOpet5Khqp_"
      },
      "execution_count": null,
      "outputs": [
        {
          "output_type": "stream",
          "name": "stdout",
          "text": [
            "[[ 9.  1.  6.  0.  0.  3.  2.  4.]\n",
            " [ 0. 16.  0.  1.  0.  0.  1.  7.]\n",
            " [ 2.  1. 15.  0.  3.  1.  1.  2.]\n",
            " [ 2.  0.  1.  9.  5.  1.  2.  5.]\n",
            " [ 0.  0.  2.  3. 16.  1.  3.  0.]\n",
            " [ 1.  1.  4.  0.  1. 12.  4.  2.]\n",
            " [ 0.  0.  0.  1.  1.  6. 16.  1.]\n",
            " [ 1.  1.  2.  2.  1.  0.  1. 17.]]\n"
          ]
        }
      ]
    },
    {
      "cell_type": "markdown",
      "source": [
        "This code will create a confusion matrix and calculate the sensitivity, specificity, false positive rate, false negative rate, positive predictive value, negative predictive value, accuracy, F1 score, and AUC for each of the 8 classes."
      ],
      "metadata": {
        "id": "Znr017VihqqA"
      }
    },
    {
      "cell_type": "code",
      "source": [
        "import pandas as pd\n",
        "\n",
        "# Replace `n_classes` with the number of classes in your data\n",
        "n_classes = 8\n",
        "\n",
        "# Calculate sensitivity (recall) for each class\n",
        "sensitivity = confusion_matrix.diagonal() / confusion_matrix.sum(axis=1)\n",
        "\n",
        "# Calculate specificity for each class\n",
        "specificity = (np.sum(confusion_matrix, axis=1) - confusion_matrix.diagonal()) / np.sum(confusion_matrix, axis=1)\n",
        "\n",
        "# Calculate false positive rate for each class\n",
        "fpr = 1 - specificity\n",
        "\n",
        "# Calculate false negative rate for each class\n",
        "fnr = 1 - sensitivity\n",
        "\n",
        "# Calculate positive predictive value for each class\n",
        "ppv = confusion_matrix.diagonal() / np.sum(confusion_matrix, axis=0)\n",
        "\n",
        "# Calculate negative predictive value for each class\n",
        "npv = (np.sum(confusion_matrix, axis=0) - confusion_matrix.diagonal()) / np.sum(confusion_matrix, axis=0)\n",
        "\n",
        "# Calculate accuracy\n",
        "accuracy = np.sum(confusion_matrix.diagonal()) / np.sum(confusion_matrix)\n",
        "\n",
        "# Calculate F1 score for each class\n",
        "f1 = 2 * (ppv * sensitivity) / (ppv + sensitivity)\n",
        "\n",
        "# Calculate AUC\n",
        "auc = 0\n",
        "for i in range(len(fpr) - 1):\n",
        "  auc += (fpr[i + 1] - fpr[i]) * (sensitivity[i + 1] + sensitivity[i])\n",
        "auc /= 2\n",
        "\n",
        "# Create a dataframe to store the results\n",
        "metrics = pd.DataFrame({\"Sensitivity\": sensitivity, \"Specificity\": specificity, \"FPR\": fpr, \"FNR\": fnr, \"PPV\": ppv, \"NPV\": npv, \"F1\": f1})\n",
        "print(metrics)\n",
        "print(f\"Accuracy: {accuracy:.2f}\")\n",
        "print(f\"AUC: {auc:.2f}\")"
      ],
      "metadata": {
        "colab": {
          "base_uri": "https://localhost:8080/"
        },
        "outputId": "341340cc-fa75-4dce-ca13-e616451edfcd",
        "id": "hEB91vzzhqqB"
      },
      "execution_count": null,
      "outputs": [
        {
          "output_type": "stream",
          "name": "stdout",
          "text": [
            "   Sensitivity  Specificity   FPR   FNR       PPV       NPV        F1\n",
            "0         0.36         0.64  0.36  0.64  0.600000  0.400000  0.450000\n",
            "1         0.64         0.36  0.64  0.36  0.800000  0.200000  0.711111\n",
            "2         0.60         0.40  0.60  0.40  0.500000  0.500000  0.545455\n",
            "3         0.36         0.64  0.36  0.64  0.562500  0.437500  0.439024\n",
            "4         0.64         0.36  0.64  0.36  0.592593  0.407407  0.615385\n",
            "5         0.48         0.52  0.48  0.52  0.500000  0.500000  0.489796\n",
            "6         0.64         0.36  0.64  0.36  0.533333  0.466667  0.581818\n",
            "7         0.68         0.32  0.68  0.32  0.447368  0.552632  0.539683\n",
            "Accuracy: 0.55\n",
            "AUC: 0.17\n"
          ]
        }
      ]
    },
    {
      "cell_type": "markdown",
      "source": [
        "# **3) Metrics for the best Model on Amazon SageMaker Studio ✅**"
      ],
      "metadata": {
        "id": "aMwXhQz1h52Q"
      }
    },
    {
      "cell_type": "markdown",
      "source": [
        "Iterate through each row and column of the matrix and set the value of the element at that position to the desired value. Confusion Matrix for the Amazon SageMaker Studio model\n"
      ],
      "metadata": {
        "id": "_migVP5oh1ig"
      }
    },
    {
      "cell_type": "markdown",
      "source": [
        "***Please Note that these confusion matrix values are not the actual values for the Amazon SageMaker best run model.***"
      ],
      "metadata": {
        "id": "i2sqxxEMVWiQ"
      }
    },
    {
      "cell_type": "code",
      "source": [
        "#Row 0: 44 4 5 13 4 2 18 10\n",
        "confusion_matrix[0][0] = 44\n",
        "confusion_matrix[0][1] = 4\n",
        "confusion_matrix[0][2] = 5\n",
        "confusion_matrix[0][3] = 13\n",
        "confusion_matrix[0][4] = 4\n",
        "confusion_matrix[0][5] = 2\n",
        "confusion_matrix[0][6] = 18\n",
        "confusion_matrix[0][7] = 10\n",
        "#Row 1: 2 67 1 4 0 6 0 20\n",
        "confusion_matrix[1][0] = 2\n",
        "confusion_matrix[1][1] = 67\n",
        "confusion_matrix[1][2] = 1\n",
        "confusion_matrix[1][3] = 4\n",
        "confusion_matrix[1][4] = 0\n",
        "confusion_matrix[1][5] = 6\n",
        "confusion_matrix[1][6] = 0\n",
        "confusion_matrix[1][7] = 20\n",
        "#Row 2: 17 2 45 4 8 8 10 6\n",
        "confusion_matrix[2][0] = 17\n",
        "confusion_matrix[2][1] = 2\n",
        "confusion_matrix[2][2] = 45\n",
        "confusion_matrix[2][3] = 4\n",
        "confusion_matrix[2][4] = 8\n",
        "confusion_matrix[2][5] = 8\n",
        "confusion_matrix[2][6] = 10\n",
        "confusion_matrix[2][7] = 6\n",
        "#Row 3: 15 6 2 49 15 5 4 4\n",
        "confusion_matrix[3][0] = 15\n",
        "confusion_matrix[3][1] = 6\n",
        "confusion_matrix[3][2] = 2\n",
        "confusion_matrix[3][3] = 49\n",
        "confusion_matrix[3][4] = 15\n",
        "confusion_matrix[3][5] = 5\n",
        "confusion_matrix[3][6] = 4\n",
        "confusion_matrix[3][7] = 4\n",
        "#Row 4: 8 1 7 17 55 6 6 0\n",
        "confusion_matrix[4][0] = 8\n",
        "confusion_matrix[4][1] = 1\n",
        "confusion_matrix[4][2] = 7\n",
        "confusion_matrix[4][3] = 17\n",
        "confusion_matrix[4][4] = 55\n",
        "confusion_matrix[4][5] = 6\n",
        "confusion_matrix[4][6] = 6\n",
        "confusion_matrix[4][7] = 0\n",
        "#Row 5: 6 4 8 2 5 46 18 11\n",
        "confusion_matrix[5][0] = 6\n",
        "confusion_matrix[5][1] = 4\n",
        "confusion_matrix[5][2] = 8\n",
        "confusion_matrix[5][3] = 2\n",
        "confusion_matrix[5][4] = 5\n",
        "confusion_matrix[5][5] = 46\n",
        "confusion_matrix[5][6] = 18\n",
        "confusion_matrix[5][7] = 11\n",
        "#Row 6: 12 1 7 6 9 22 41 2\n",
        "confusion_matrix[6][0] = 12\n",
        "confusion_matrix[6][1] = 1\n",
        "confusion_matrix[6][2] = 7\n",
        "confusion_matrix[6][3] = 6\n",
        "confusion_matrix[6][4] = 9\n",
        "confusion_matrix[6][5] = 22\n",
        "confusion_matrix[6][6] = 41\n",
        "confusion_matrix[6][7] = 2\n",
        "#Row 7: 13 11 4 2 3 7 6 54\n",
        "confusion_matrix[7][0] = 13\n",
        "confusion_matrix[7][1] = 11\n",
        "confusion_matrix[7][2] = 4\n",
        "confusion_matrix[7][3] = 2\n",
        "confusion_matrix[7][4] = 3\n",
        "confusion_matrix[7][5] = 7\n",
        "confusion_matrix[7][6] = 6\n",
        "confusion_matrix[7][7] = 54"
      ],
      "metadata": {
        "id": "pncnoJr7h1ih"
      },
      "execution_count": null,
      "outputs": []
    },
    {
      "cell_type": "markdown",
      "source": [
        " print the matrix to check if it has been filled in correctly."
      ],
      "metadata": {
        "id": "0I2ruxzth1ij"
      }
    },
    {
      "cell_type": "code",
      "source": [
        "print(confusion_matrix)"
      ],
      "metadata": {
        "colab": {
          "base_uri": "https://localhost:8080/"
        },
        "outputId": "79944e9d-14ef-4c65-8528-d3acd5304772",
        "id": "OFJR-8smh1ik"
      },
      "execution_count": null,
      "outputs": [
        {
          "output_type": "stream",
          "name": "stdout",
          "text": [
            "[[44.  4.  5. 13.  4.  2. 18. 10.]\n",
            " [ 2. 67.  1.  4.  0.  6.  0. 20.]\n",
            " [17.  2. 45.  4.  8.  8. 10.  6.]\n",
            " [15.  6.  2. 49. 15.  5.  4.  4.]\n",
            " [ 8.  1.  7. 17. 55.  6.  6.  0.]\n",
            " [ 6.  4.  8.  2.  5. 46. 18. 11.]\n",
            " [12.  1.  7.  6.  9. 22. 41.  2.]\n",
            " [13. 11.  4.  2.  3.  7.  6. 54.]]\n"
          ]
        }
      ]
    },
    {
      "cell_type": "markdown",
      "source": [
        "This code will create a confusion matrix and calculate the sensitivity, specificity, false positive rate, false negative rate, positive predictive value, negative predictive value, accuracy, F1 score, and AUC for each of the 8 classes."
      ],
      "metadata": {
        "id": "XUY50Ndeh1im"
      }
    },
    {
      "cell_type": "code",
      "source": [
        "import pandas as pd\n",
        "\n",
        "# Replace `n_classes` with the number of classes in your data\n",
        "n_classes = 8\n",
        "\n",
        "# Calculate sensitivity (recall) for each class\n",
        "sensitivity = confusion_matrix.diagonal() / confusion_matrix.sum(axis=1)\n",
        "\n",
        "# Calculate specificity for each class\n",
        "specificity = (np.sum(confusion_matrix, axis=1) - confusion_matrix.diagonal()) / np.sum(confusion_matrix, axis=1)\n",
        "\n",
        "# Calculate false positive rate for each class\n",
        "fpr = 1 - specificity\n",
        "\n",
        "# Calculate false negative rate for each class\n",
        "fnr = 1 - sensitivity\n",
        "\n",
        "# Calculate positive predictive value for each class\n",
        "ppv = confusion_matrix.diagonal() / np.sum(confusion_matrix, axis=0)\n",
        "\n",
        "# Calculate negative predictive value for each class\n",
        "npv = (np.sum(confusion_matrix, axis=0) - confusion_matrix.diagonal()) / np.sum(confusion_matrix, axis=0)\n",
        "\n",
        "# Calculate accuracy\n",
        "accuracy = np.sum(confusion_matrix.diagonal()) / np.sum(confusion_matrix)\n",
        "\n",
        "# Calculate F1 score for each class\n",
        "f1 = 2 * (ppv * sensitivity) / (ppv + sensitivity)\n",
        "\n",
        "# Calculate AUC\n",
        "auc = np.sum((fpr[:-1] - fpr[1:]) * (sensitivity[:-1] + sensitivity[1:])) / 2\n",
        "\n",
        "# Create a dataframe to store the results\n",
        "metrics = pd.DataFrame({\"Sensitivity\": sensitivity, \"Specificity\": specificity, \"FPR\": fpr, \"FNR\": fnr, \"PPV\": ppv, \"NPV\": npv, \"F1\": f1})\n",
        "print(metrics)\n",
        "print(f\"Accuracy: {accuracy:.2f}\")\n",
        "print(f\"AUC: {auc:.2f}\")"
      ],
      "metadata": {
        "colab": {
          "base_uri": "https://localhost:8080/"
        },
        "outputId": "a6daedf1-1407-4b4c-cbb8-bd21d2d974c6",
        "id": "ssWVibtph1im"
      },
      "execution_count": null,
      "outputs": [
        {
          "output_type": "stream",
          "name": "stdout",
          "text": [
            "   Sensitivity  Specificity   FPR   FNR       PPV       NPV        F1\n",
            "0         0.44         0.56  0.44  0.56  0.376068  0.623932  0.405530\n",
            "1         0.67         0.33  0.67  0.33  0.697917  0.302083  0.683673\n",
            "2         0.45         0.55  0.45  0.55  0.569620  0.430380  0.502793\n",
            "3         0.49         0.51  0.49  0.51  0.505155  0.494845  0.497462\n",
            "4         0.55         0.45  0.55  0.45  0.555556  0.444444  0.552764\n",
            "5         0.46         0.54  0.46  0.54  0.450980  0.549020  0.455446\n",
            "6         0.41         0.59  0.41  0.59  0.398058  0.601942  0.403941\n",
            "7         0.54         0.46  0.54  0.46  0.504673  0.495327  0.521739\n",
            "Accuracy: 0.50\n",
            "AUC: -0.05\n"
          ]
        }
      ]
    }
  ]
}