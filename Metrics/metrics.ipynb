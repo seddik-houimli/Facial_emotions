{
  "nbformat": 4,
  "nbformat_minor": 0,
  "metadata": {
    "colab": {
      "provenance": []
    },
    "kernelspec": {
      "name": "python3",
      "display_name": "Python 3"
    },
    "language_info": {
      "name": "python"
    }
  },
  "cells": [
    {
      "cell_type": "markdown",
      "source": [
        "To begin, let's first initialize an 8x8 matrix with all elements set to 0. You can do this using the zeros() function from the numpy library."
      ],
      "metadata": {
        "id": "_-n_GGbld-Op"
      }
    },
    {
      "cell_type": "code",
      "execution_count": 30,
      "metadata": {
        "id": "GLzo2-ehd86V"
      },
      "outputs": [],
      "source": [
        "import numpy as np\n",
        "\n",
        "confusion_matrix = np.zeros((8, 8))"
      ]
    },
    {
      "cell_type": "markdown",
      "source": [
        "# **1) Metrics for the best Model on Microsoft Azure Machine Learning Studio ✅**"
      ],
      "metadata": {
        "id": "41WlZgOZg1mm"
      }
    },
    {
      "cell_type": "markdown",
      "source": [
        "Iterate through each row and column of the matrix and set the value of the element at that position to the desired value. Confusion Matrix for Microsoft Azure Machine Learning Studio model"
      ],
      "metadata": {
        "id": "xpr3jNlreO9a"
      }
    },
    {
      "cell_type": "code",
      "source": [
        "#Row 0: 47 4 5 13 4 2 18 10\n",
        "confusion_matrix[0][0] = 47\n",
        "confusion_matrix[0][1] = 4\n",
        "confusion_matrix[0][2] = 5\n",
        "confusion_matrix[0][3] = 13\n",
        "confusion_matrix[0][4] = 4\n",
        "confusion_matrix[0][5] = 2\n",
        "confusion_matrix[0][6] = 18\n",
        "confusion_matrix[0][7] = 10\n",
        "#Row 1: 2 70 1 4 0 6 0 20\n",
        "confusion_matrix[1][0] = 2\n",
        "confusion_matrix[1][1] = 70\n",
        "confusion_matrix[1][2] = 1\n",
        "confusion_matrix[1][3] = 4\n",
        "confusion_matrix[1][4] = 0\n",
        "confusion_matrix[1][5] = 6\n",
        "confusion_matrix[1][6] = 0\n",
        "confusion_matrix[1][7] = 20\n",
        "#Row 2: 17 2 48 4 8 8 10 6\n",
        "confusion_matrix[2][0] = 17\n",
        "confusion_matrix[2][1] = 2\n",
        "confusion_matrix[2][2] = 48\n",
        "confusion_matrix[2][3] = 4\n",
        "confusion_matrix[2][4] = 8\n",
        "confusion_matrix[2][5] = 8\n",
        "confusion_matrix[2][6] = 10\n",
        "confusion_matrix[2][7] = 6\n",
        "#Row 3: 15 6 2 52 15 5 4 4\n",
        "confusion_matrix[3][0] = 15\n",
        "confusion_matrix[3][1] = 6\n",
        "confusion_matrix[3][2] = 2\n",
        "confusion_matrix[3][3] = 52\n",
        "confusion_matrix[3][4] = 15\n",
        "confusion_matrix[3][5] = 5\n",
        "confusion_matrix[3][6] = 4\n",
        "confusion_matrix[3][7] = 4\n",
        "#Row 4: 8 1 7 17 58 6 6 0\n",
        "confusion_matrix[4][0] = 8\n",
        "confusion_matrix[4][1] = 1\n",
        "confusion_matrix[4][2] = 7\n",
        "confusion_matrix[4][3] = 17\n",
        "confusion_matrix[4][4] = 58\n",
        "confusion_matrix[4][5] = 6\n",
        "confusion_matrix[4][6] = 6\n",
        "confusion_matrix[4][7] = 0\n",
        "#Row 5: 6 4 8 2 5 49 18 11\n",
        "confusion_matrix[5][0] = 6\n",
        "confusion_matrix[5][1] = 4\n",
        "confusion_matrix[5][2] = 8\n",
        "confusion_matrix[5][3] = 2\n",
        "confusion_matrix[5][4] = 5\n",
        "confusion_matrix[5][5] = 49\n",
        "confusion_matrix[5][6] = 18\n",
        "confusion_matrix[5][7] = 11\n",
        "#Row 6: 12 1 7 6 9 22 44 2\n",
        "confusion_matrix[6][0] = 12\n",
        "confusion_matrix[6][1] = 1\n",
        "confusion_matrix[6][2] = 7\n",
        "confusion_matrix[6][3] = 6\n",
        "confusion_matrix[6][4] = 9\n",
        "confusion_matrix[6][5] = 22\n",
        "confusion_matrix[6][6] = 44\n",
        "confusion_matrix[6][7] = 2\n",
        "#Row 7: 13 11 4 2 3 7 6 57\n",
        "confusion_matrix[7][0] = 13\n",
        "confusion_matrix[7][1] = 11\n",
        "confusion_matrix[7][2] = 4\n",
        "confusion_matrix[7][3] = 2\n",
        "confusion_matrix[7][4] = 3\n",
        "confusion_matrix[7][5] = 7\n",
        "confusion_matrix[7][6] = 6\n",
        "confusion_matrix[7][7] = 57"
      ],
      "metadata": {
        "id": "9vkJXIkYeMid"
      },
      "execution_count": 31,
      "outputs": []
    },
    {
      "cell_type": "markdown",
      "source": [
        " print the matrix to check if it has been filled in correctly."
      ],
      "metadata": {
        "id": "7pp5OxX5eXRD"
      }
    },
    {
      "cell_type": "code",
      "source": [
        "print(confusion_matrix)"
      ],
      "metadata": {
        "colab": {
          "base_uri": "https://localhost:8080/"
        },
        "id": "-O0_LjMkeT5o",
        "outputId": "53a3e3e1-7a81-4ff8-937b-091e992a146e"
      },
      "execution_count": 32,
      "outputs": [
        {
          "output_type": "stream",
          "name": "stdout",
          "text": [
            "[[47.  4.  5. 13.  4.  2. 18. 10.]\n",
            " [ 2. 70.  1.  4.  0.  6.  0. 20.]\n",
            " [17.  2. 48.  4.  8.  8. 10.  6.]\n",
            " [15.  6.  2. 52. 15.  5.  4.  4.]\n",
            " [ 8.  1.  7. 17. 58.  6.  6.  0.]\n",
            " [ 6.  4.  8.  2.  5. 49. 18. 11.]\n",
            " [12.  1.  7.  6.  9. 22. 44.  2.]\n",
            " [13. 11.  4.  2.  3.  7.  6. 57.]]\n"
          ]
        }
      ]
    },
    {
      "cell_type": "markdown",
      "source": [
        "This code will create a confusion matrix and calculate the sensitivity, specificity, false positive rate, false negative rate, positive predictive value, negative predictive value, accuracy, F1 score, and AUC for each of the 8 classes."
      ],
      "metadata": {
        "id": "ydSZsD7uee0Z"
      }
    },
    {
      "cell_type": "code",
      "source": [
        "import pandas as pd\n",
        "from sklearn.metrics import roc_auc_score\n",
        "\n",
        "# Replace `n_classes` with the number of classes in your data\n",
        "n_classes = 8\n",
        "\n",
        "# Calculate sensitivity (recall) for each class\n",
        "sensitivity = confusion_matrix.diagonal() / confusion_matrix.sum(axis=1)\n",
        "\n",
        "# Calculate specificity for each class\n",
        "specificity = (np.sum(confusion_matrix, axis=1) - confusion_matrix.diagonal()) / np.sum(confusion_matrix, axis=1)\n",
        "\n",
        "# Calculate false positive rate for each class\n",
        "fpr = 1 - specificity\n",
        "\n",
        "# Calculate false negative rate for each class\n",
        "fnr = 1 - sensitivity\n",
        "\n",
        "# Calculate positive predictive value for each class\n",
        "ppv = confusion_matrix.diagonal() / np.sum(confusion_matrix, axis=0)\n",
        "\n",
        "# Calculate negative predictive value for each class\n",
        "npv = (np.sum(confusion_matrix, axis=0) - confusion_matrix.diagonal()) / np.sum(confusion_matrix, axis=0)\n",
        "\n",
        "# Calculate accuracy\n",
        "accuracy = np.sum(confusion_matrix.diagonal()) / np.sum(confusion_matrix)\n",
        "\n",
        "# Calculate F1 score for each class\n",
        "f1 = 2 * (ppv * sensitivity) / (ppv + sensitivity)\n",
        "\n",
        "# AUC from Azure AutoML\n",
        "auc = 0.85502\n",
        "\n",
        "\n",
        "# Create a dataframe to store the results\n",
        "metrics = pd.DataFrame({\"Sensitivity\": sensitivity, \"Specificity\": specificity, \"FPR\": fpr, \"FNR\": fnr, \"PPV\": ppv, \"NPV\": npv, \"F1\": f1})\n",
        "print(metrics)\n",
        "print(f\"Accuracy: {accuracy:.2f}\")\n",
        "print(f\"AUC: {auc:.2f}\")"
      ],
      "metadata": {
        "colab": {
          "base_uri": "https://localhost:8080/"
        },
        "id": "EiqpYDU9ejd3",
        "outputId": "de6cd5fd-cd6f-4650-e492-692e60c5a056"
      },
      "execution_count": 33,
      "outputs": [
        {
          "output_type": "stream",
          "name": "stdout",
          "text": [
            "   Sensitivity  Specificity       FPR       FNR       PPV       NPV        F1\n",
            "0     0.456311     0.543689  0.456311  0.543689  0.391667  0.608333  0.421525\n",
            "1     0.679612     0.320388  0.679612  0.320388  0.707071  0.292929  0.693069\n",
            "2     0.466019     0.533981  0.466019  0.533981  0.585366  0.414634  0.518919\n",
            "3     0.504854     0.495146  0.504854  0.495146  0.520000  0.480000  0.512315\n",
            "4     0.563107     0.436893  0.563107  0.436893  0.568627  0.431373  0.565854\n",
            "5     0.475728     0.524272  0.475728  0.524272  0.466667  0.533333  0.471154\n",
            "6     0.427184     0.572816  0.427184  0.572816  0.415094  0.584906  0.421053\n",
            "7     0.553398     0.446602  0.553398  0.446602  0.518182  0.481818  0.535211\n",
            "Accuracy: 0.52\n",
            "AUC: 0.86\n"
          ]
        }
      ]
    },
    {
      "cell_type": "markdown",
      "source": [
        "# **2) Metrics for the best Model on Google Vertex AI ✅**"
      ],
      "metadata": {
        "id": "jzwOHtNLhXnC"
      }
    },
    {
      "cell_type": "markdown",
      "source": [
        "Iterate through each row and column of the matrix and set the value of the element at that position to the desired value. Confusion Matrix for Google Vertex AI model"
      ],
      "metadata": {
        "id": "TopEVCGrhqp6"
      }
    },
    {
      "cell_type": "code",
      "source": [
        "#Row 0: \n",
        "confusion_matrix[0][0] = 24\n",
        "confusion_matrix[0][1] = 1\n",
        "confusion_matrix[0][2] = 6\n",
        "confusion_matrix[0][3] = 0\n",
        "confusion_matrix[0][4] = 0\n",
        "confusion_matrix[0][5] = 3\n",
        "confusion_matrix[0][6] = 2\n",
        "confusion_matrix[0][7] = 4\n",
        "\n",
        "#Row 1:\n",
        "confusion_matrix[1][0] = 0\n",
        "confusion_matrix[1][1] = 29\n",
        "confusion_matrix[1][2] = 0\n",
        "confusion_matrix[1][3] = 1\n",
        "confusion_matrix[1][4] = 0\n",
        "confusion_matrix[1][5] = 0\n",
        "confusion_matrix[1][6] = 1\n",
        "confusion_matrix[1][7] = 7\n",
        "#Row 2:\n",
        "confusion_matrix[2][0] = 2\n",
        "confusion_matrix[2][1] = 1\n",
        "confusion_matrix[2][2] = 28\n",
        "confusion_matrix[2][3] = 0\n",
        "confusion_matrix[2][4] = 3\n",
        "confusion_matrix[2][5] = 1\n",
        "confusion_matrix[2][6] = 1\n",
        "confusion_matrix[2][7] = 2\n",
        "#Row 3:\n",
        "confusion_matrix[3][0] = 2\n",
        "confusion_matrix[3][1] = 0\n",
        "confusion_matrix[3][2] = 1\n",
        "confusion_matrix[3][3] = 22\n",
        "confusion_matrix[3][4] = 5\n",
        "confusion_matrix[3][5] = 1\n",
        "confusion_matrix[3][6] = 2\n",
        "confusion_matrix[3][7] = 5\n",
        "#Row 4:\n",
        "confusion_matrix[4][0] = 0\n",
        "confusion_matrix[4][1] = 0\n",
        "confusion_matrix[4][2] = 2\n",
        "confusion_matrix[4][3] = 3\n",
        "confusion_matrix[4][4] = 29\n",
        "confusion_matrix[4][5] = 1\n",
        "confusion_matrix[4][6] = 3\n",
        "confusion_matrix[4][7] = 0\n",
        "#Row 5:\n",
        "confusion_matrix[5][0] = 1\n",
        "confusion_matrix[5][1] = 1\n",
        "confusion_matrix[5][2] = 4\n",
        "confusion_matrix[5][3] = 0\n",
        "confusion_matrix[5][4] = 1\n",
        "confusion_matrix[5][5] = 25\n",
        "confusion_matrix[5][6] = 4\n",
        "confusion_matrix[5][7] = 2\n",
        "#Row 6:\n",
        "confusion_matrix[6][0] = 0\n",
        "confusion_matrix[6][1] = 0\n",
        "confusion_matrix[6][2] = 0\n",
        "confusion_matrix[6][3] = 1\n",
        "confusion_matrix[6][4] = 1\n",
        "confusion_matrix[6][5] = 6\n",
        "confusion_matrix[6][6] = 29\n",
        "confusion_matrix[6][7] = 1\n",
        "#Row 7:\n",
        "confusion_matrix[7][0] = 1\n",
        "confusion_matrix[7][1] = 1\n",
        "confusion_matrix[7][2] = 2\n",
        "confusion_matrix[7][3] = 2\n",
        "confusion_matrix[7][4] = 1\n",
        "confusion_matrix[7][5] = 0\n",
        "confusion_matrix[7][6] = 1\n",
        "confusion_matrix[7][7] = 30"
      ],
      "metadata": {
        "id": "DPuwKWIWhqp7"
      },
      "execution_count": 34,
      "outputs": []
    },
    {
      "cell_type": "markdown",
      "source": [
        " print the matrix to check if it has been filled in correctly."
      ],
      "metadata": {
        "id": "UozVEslohqp-"
      }
    },
    {
      "cell_type": "code",
      "source": [
        "print(confusion_matrix)"
      ],
      "metadata": {
        "colab": {
          "base_uri": "https://localhost:8080/"
        },
        "outputId": "54a039ca-2e85-463b-a940-05999bd3f16e",
        "id": "IFOpet5Khqp_"
      },
      "execution_count": 35,
      "outputs": [
        {
          "output_type": "stream",
          "name": "stdout",
          "text": [
            "[[24.  1.  6.  0.  0.  3.  2.  4.]\n",
            " [ 0. 29.  0.  1.  0.  0.  1.  7.]\n",
            " [ 2.  1. 28.  0.  3.  1.  1.  2.]\n",
            " [ 2.  0.  1. 22.  5.  1.  2.  5.]\n",
            " [ 0.  0.  2.  3. 29.  1.  3.  0.]\n",
            " [ 1.  1.  4.  0.  1. 25.  4.  2.]\n",
            " [ 0.  0.  0.  1.  1.  6. 29.  1.]\n",
            " [ 1.  1.  2.  2.  1.  0.  1. 30.]]\n"
          ]
        }
      ]
    },
    {
      "cell_type": "markdown",
      "source": [
        "This code will create a confusion matrix and calculate the sensitivity, specificity, false positive rate, false negative rate, positive predictive value, negative predictive value, accuracy, F1 score, and AUC for each of the 8 classes."
      ],
      "metadata": {
        "id": "Znr017VihqqA"
      }
    },
    {
      "cell_type": "code",
      "source": [
        "import pandas as pd\n",
        "\n",
        "# Replace `n_classes` with the number of classes in your data\n",
        "n_classes = 8\n",
        "\n",
        "# Calculate sensitivity (recall) for each class\n",
        "sensitivity = confusion_matrix.diagonal() / confusion_matrix.sum(axis=1)\n",
        "\n",
        "# Calculate specificity for each class\n",
        "specificity = (np.sum(confusion_matrix, axis=1) - confusion_matrix.diagonal()) / np.sum(confusion_matrix, axis=1)\n",
        "\n",
        "# Calculate false positive rate for each class\n",
        "fpr = 1 - specificity\n",
        "\n",
        "# Calculate false negative rate for each class\n",
        "fnr = 1 - sensitivity\n",
        "\n",
        "# Calculate positive predictive value for each class\n",
        "ppv = confusion_matrix.diagonal() / np.sum(confusion_matrix, axis=0)\n",
        "\n",
        "# Calculate negative predictive value for each class\n",
        "npv = (np.sum(confusion_matrix, axis=0) - confusion_matrix.diagonal()) / np.sum(confusion_matrix, axis=0)\n",
        "\n",
        "# Calculate accuracy\n",
        "accuracy = np.sum(confusion_matrix.diagonal()) / np.sum(confusion_matrix)\n",
        "\n",
        "# Calculate F1 score for each class\n",
        "f1 = 2 * (ppv * sensitivity) / (ppv + sensitivity)\n",
        "\n",
        "# From google vertex AI:\n",
        "auc = 0.9\n",
        "\n",
        "# Create a dataframe to store the results\n",
        "metrics = pd.DataFrame({\"Sensitivity\": sensitivity, \"Specificity\": specificity, \"FPR\": fpr, \"FNR\": fnr, \"PPV\": ppv, \"NPV\": npv, \"F1\": f1})\n",
        "print(metrics)\n",
        "print(f\"Accuracy: {accuracy:.2f}\")\n",
        "print(f\"AUC: {auc:.2f}\")"
      ],
      "metadata": {
        "colab": {
          "base_uri": "https://localhost:8080/"
        },
        "outputId": "c785f562-76ac-4c5d-f0df-f8cfe1f2739d",
        "id": "hEB91vzzhqqB"
      },
      "execution_count": 36,
      "outputs": [
        {
          "output_type": "stream",
          "name": "stdout",
          "text": [
            "   Sensitivity  Specificity       FPR       FNR       PPV       NPV        F1\n",
            "0     0.600000     0.400000  0.600000  0.400000  0.800000  0.200000  0.685714\n",
            "1     0.763158     0.236842  0.763158  0.236842  0.878788  0.121212  0.816901\n",
            "2     0.736842     0.263158  0.736842  0.263158  0.651163  0.348837  0.691358\n",
            "3     0.578947     0.421053  0.578947  0.421053  0.758621  0.241379  0.656716\n",
            "4     0.763158     0.236842  0.763158  0.236842  0.725000  0.275000  0.743590\n",
            "5     0.657895     0.342105  0.657895  0.342105  0.675676  0.324324  0.666667\n",
            "6     0.763158     0.236842  0.763158  0.236842  0.674419  0.325581  0.716049\n",
            "7     0.789474     0.210526  0.789474  0.210526  0.588235  0.411765  0.674157\n",
            "Accuracy: 0.71\n",
            "AUC: 0.90\n"
          ]
        }
      ]
    },
    {
      "cell_type": "markdown",
      "source": [
        "# **3) Metrics for the best Model on Amazon SageMaker Studio ✅**"
      ],
      "metadata": {
        "id": "aMwXhQz1h52Q"
      }
    },
    {
      "cell_type": "markdown",
      "source": [
        "Iterate through each row and column of the matrix and set the value of the element at that position to the desired value. Confusion Matrix for the Amazon SageMaker Studio model\n"
      ],
      "metadata": {
        "id": "_migVP5oh1ig"
      }
    },
    {
      "cell_type": "markdown",
      "source": [
        "***Please Note that these confusion matrix values are not the actual values for the Amazon SageMaker best run model.***"
      ],
      "metadata": {
        "id": "i2sqxxEMVWiQ"
      }
    },
    {
      "cell_type": "code",
      "source": [
        "confusion_matrix[0][0] = 34\n",
        "confusion_matrix[0][1] = 4\n",
        "confusion_matrix[0][2] = 5\n",
        "confusion_matrix[0][3] = 13\n",
        "confusion_matrix[0][4] = 4\n",
        "confusion_matrix[0][5] = 2\n",
        "confusion_matrix[0][6] = 18\n",
        "confusion_matrix[0][7] = 10\n",
        "\n",
        "confusion_matrix[1][0] = 2\n",
        "confusion_matrix[1][1] = 56\n",
        "confusion_matrix[1][2] = 1\n",
        "confusion_matrix[1][3] = 4\n",
        "confusion_matrix[1][4] = 0\n",
        "confusion_matrix[1][5] = 6\n",
        "confusion_matrix[1][6] = 0\n",
        "confusion_matrix[1][7] = 20\n",
        "\n",
        "confusion_matrix[2][0] = 17\n",
        "confusion_matrix[2][1] = 2\n",
        "confusion_matrix[2][2] = 39\n",
        "confusion_matrix[2][3] = 4\n",
        "confusion_matrix[2][4] = 8\n",
        "confusion_matrix[2][5] = 8\n",
        "confusion_matrix[2][6] = 10\n",
        "confusion_matrix[2][7] = 6\n",
        "\n",
        "confusion_matrix[3][0] = 15\n",
        "confusion_matrix[3][1] = 6\n",
        "confusion_matrix[3][2] = 2\n",
        "confusion_matrix[3][3] = 39\n",
        "confusion_matrix[3][4] = 15\n",
        "confusion_matrix[3][5] = 5\n",
        "confusion_matrix[3][6] = 4\n",
        "confusion_matrix[3][7] = 4\n",
        "\n",
        "confusion_matrix[4][0] = 8\n",
        "confusion_matrix[4][1] = 1\n",
        "confusion_matrix[4][2] = 7\n",
        "confusion_matrix[4][3] = 17\n",
        "confusion_matrix[4][4] = 50\n",
        "confusion_matrix[4][5] = 6\n",
        "confusion_matrix[4][6] = 6\n",
        "confusion_matrix[4][7] = 0\n",
        "\n",
        "confusion_matrix[5][0] = 6\n",
        "confusion_matrix[5][1] = 4\n",
        "confusion_matrix[5][2] = 8\n",
        "confusion_matrix[5][3] = 10\n",
        "confusion_matrix[5][4] = 5\n",
        "confusion_matrix[5][5] = 40\n",
        "confusion_matrix[5][6] = 12\n",
        "confusion_matrix[5][7] = 11\n",
        "\n",
        "confusion_matrix[6][0] = 12\n",
        "confusion_matrix[6][1] = 1\n",
        "confusion_matrix[6][2] = 7\n",
        "confusion_matrix[6][3] = 6\n",
        "confusion_matrix[6][4] = 15\n",
        "confusion_matrix[6][5] = 2\n",
        "confusion_matrix[6][6] = 38\n",
        "confusion_matrix[6][7] = 2\n",
        "\n",
        "confusion_matrix[7][0] = 13\n",
        "confusion_matrix[7][1] = 11\n",
        "confusion_matrix[7][2] = 4\n",
        "confusion_matrix[7][3] = 10\n",
        "confusion_matrix[7][4] = 3\n",
        "confusion_matrix[7][5] = 7\n",
        "confusion_matrix[7][6] = 6\n",
        "confusion_matrix[7][7] = 54"
      ],
      "metadata": {
        "id": "pncnoJr7h1ih"
      },
      "execution_count": 40,
      "outputs": []
    },
    {
      "cell_type": "markdown",
      "source": [
        " print the matrix to check if it has been filled in correctly."
      ],
      "metadata": {
        "id": "0I2ruxzth1ij"
      }
    },
    {
      "cell_type": "code",
      "source": [
        "print(confusion_matrix)"
      ],
      "metadata": {
        "colab": {
          "base_uri": "https://localhost:8080/"
        },
        "outputId": "90e7c87a-1927-49fc-fac9-aeab6c696ed3",
        "id": "OFJR-8smh1ik"
      },
      "execution_count": 41,
      "outputs": [
        {
          "output_type": "stream",
          "name": "stdout",
          "text": [
            "[[34.  4.  5. 13.  4.  2. 18. 10.]\n",
            " [ 2. 56.  1.  4.  0.  6.  0. 20.]\n",
            " [17.  2. 39.  4.  8.  8. 10.  6.]\n",
            " [15.  6.  2. 39. 15.  5.  4.  4.]\n",
            " [ 8.  1.  7. 17. 50.  6.  6.  0.]\n",
            " [ 6.  4.  8. 10.  5. 40. 12. 11.]\n",
            " [12.  1.  7.  6. 15.  2. 38.  2.]\n",
            " [13. 11.  4. 10.  3.  7.  6. 54.]]\n"
          ]
        }
      ]
    },
    {
      "cell_type": "markdown",
      "source": [
        "This code will create a confusion matrix and calculate the sensitivity, specificity, false positive rate, false negative rate, positive predictive value, negative predictive value, accuracy, F1 score, and AUC for each of the 8 classes."
      ],
      "metadata": {
        "id": "XUY50Ndeh1im"
      }
    },
    {
      "cell_type": "code",
      "source": [
        "import pandas as pd\n",
        "\n",
        "# Replace `n_classes` with the number of classes in your data\n",
        "n_classes = 8\n",
        "\n",
        "# Calculate sensitivity (recall) for each class\n",
        "sensitivity = confusion_matrix.diagonal() / confusion_matrix.sum(axis=1)\n",
        "\n",
        "# Calculate specificity for each class\n",
        "specificity = (np.sum(confusion_matrix, axis=1) - confusion_matrix.diagonal()) / np.sum(confusion_matrix, axis=1)\n",
        "\n",
        "# Calculate false positive rate for each class\n",
        "fpr = 1 - specificity\n",
        "\n",
        "# Calculate false negative rate for each class\n",
        "fnr = 1 - sensitivity\n",
        "\n",
        "# Calculate positive predictive value for each class\n",
        "ppv = confusion_matrix.diagonal() / np.sum(confusion_matrix, axis=0)\n",
        "\n",
        "# Calculate negative predictive value for each class\n",
        "npv = (np.sum(confusion_matrix, axis=0) - confusion_matrix.diagonal()) / np.sum(confusion_matrix, axis=0)\n",
        "\n",
        "# Calculate accuracy\n",
        "accuracy = np.sum(confusion_matrix.diagonal()) / np.sum(confusion_matrix)\n",
        "\n",
        "# Calculate F1 score for each class\n",
        "f1 = 2 * (ppv * sensitivity) / (ppv + sensitivity)\n",
        "\n",
        "# AUC from Amazon SageMaker\n",
        "auc = 0.41\n",
        "\n",
        "\n",
        "# Create a dataframe to store the results\n",
        "metrics = pd.DataFrame({\"Sensitivity\": sensitivity, \"Specificity\": specificity, \"FPR\": fpr, \"FNR\": fnr, \"PPV\": ppv, \"NPV\": npv, \"F1\": f1})\n",
        "print(metrics)\n",
        "print(f\"Accuracy: {accuracy:.2f}\")\n",
        "print(f\"AUC: {auc:.2f}\")"
      ],
      "metadata": {
        "colab": {
          "base_uri": "https://localhost:8080/"
        },
        "outputId": "0e112074-a73b-4f69-be89-d03ba1d26465",
        "id": "ssWVibtph1im"
      },
      "execution_count": 42,
      "outputs": [
        {
          "output_type": "stream",
          "name": "stdout",
          "text": [
            "   Sensitivity  Specificity       FPR       FNR       PPV       NPV        F1\n",
            "0     0.377778     0.622222  0.377778  0.622222  0.317757  0.682243  0.345178\n",
            "1     0.629213     0.370787  0.629213  0.370787  0.658824  0.341176  0.643678\n",
            "2     0.414894     0.585106  0.414894  0.585106  0.534247  0.465753  0.467066\n",
            "3     0.433333     0.566667  0.433333  0.566667  0.378641  0.621359  0.404145\n",
            "4     0.526316     0.473684  0.526316  0.473684  0.500000  0.500000  0.512821\n",
            "5     0.416667     0.583333  0.416667  0.583333  0.526316  0.473684  0.465116\n",
            "6     0.457831     0.542169  0.457831  0.542169  0.404255  0.595745  0.429379\n",
            "7     0.500000     0.500000  0.500000  0.500000  0.504673  0.495327  0.502326\n",
            "Accuracy: 0.47\n",
            "AUC: 0.41\n"
          ]
        }
      ]
    }
  ]
}
